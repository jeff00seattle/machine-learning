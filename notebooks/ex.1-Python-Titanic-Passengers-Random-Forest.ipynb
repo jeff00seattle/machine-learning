{
 "cells": [
  {
   "cell_type": "markdown",
   "metadata": {},
   "source": [
    "<img src=\"./images/RMS_Titanic_3.jpg\" data-canonical-src=\"./images/RMS_Titanic_3.jpg\" width=\"400\" height=\"500\" />"
   ]
  },
  {
   "cell_type": "markdown",
   "metadata": {},
   "source": [
    "# Passenger List of the Titanic"
   ]
  },
  {
   "cell_type": "markdown",
   "metadata": {},
   "source": [
    "## Resources\n",
    "\n",
    "* [Wikipedia: Passengers of the RMS Titanic](https://en.wikipedia.org/wiki/Passengers_of_the_RMS_Titanic)\n",
    "* [Titanic Facts: Titanic Passenger List](http://www.titanicfacts.net/titanic-passenger-list.html)\n",
    "* [StatCrunch: Titanic Passenger List](https://www.statcrunch.com/app/index.php?dataid=1854688)\n",
    "* [The RMS Titanic](http://questgarden.com/152/38/5/121129163942/process.htm)\n",
    "\n",
    "## Data Dictionary\n",
    "\n",
    "| Variable\t| Definition | Key |\n",
    "|:------------|:--------------|:-------|\n",
    "| **survival** | Survival | 0 = No, 1 = Yes | \n",
    "| **pclass** | Ticket class | 1 = 1st, 2 = 2nd, 3 = 3rd | \n",
    "| **sex** | Sex |  | \t\n",
    "| **Age** | Age | in years\t | \n",
    "| **sibsp** | # of siblings / spouses aboard the Titanic\t |  | \n",
    "| **parch** | # of parents / children aboard the Titanic\t |  | \n",
    "| **ticket** | Ticket number\t |  | \n",
    "| **fare** | Passenger fare\t |  | \n",
    "| **cabin** | abin | number |\n",
    "| **embarked** | Port of Embarkation | C = Cherbourg, Q = Queenstown, S = Southampton \t\n",
    "| **boat** | Lifeboat | number |  \t\n",
    "| **body** | Body Identification Number | number | \t  \t\n",
    "| **home.dest** | Home/Destination | | \t\n",
    "\n",
    "## Variable Notes\n",
    "\n",
    "**pclass**: A proxy for socio-economic status (SES)\n",
    "1st = Upper\n",
    "2nd = Middle\n",
    "3rd = Lower\n",
    "\n",
    "**age**: Age is fractional if less than 1. If the age is estimated, is it in the form of xx.5\n",
    "\n",
    "**sibsp**: The dataset defines family relations in this way...\n",
    "Sibling = brother, sister, stepbrother, stepsister\n",
    "Spouse = husband, wife (mistresses and fiancés were ignored)\n",
    "\n",
    "**parch**: The dataset defines family relations in this way...\n",
    "Parent = mother, father\n",
    "Child = daughter, son, stepdaughter, stepson\n",
    "Some children travelled only with a nanny, therefore parch=0 for them."
   ]
  }
 ],
 "metadata": {
  "kernelspec": {
   "display_name": "Python 3",
   "language": "python",
   "name": "python3"
  },
  "language_info": {
   "codemirror_mode": {
    "name": "ipython",
    "version": 3
   },
   "file_extension": ".py",
   "mimetype": "text/x-python",
   "name": "python",
   "nbconvert_exporter": "python",
   "pygments_lexer": "ipython3",
   "version": "3.6.1"
  }
 },
 "nbformat": 4,
 "nbformat_minor": 2
}
