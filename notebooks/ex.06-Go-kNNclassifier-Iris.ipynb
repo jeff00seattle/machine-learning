{
 "cells": [
  {
   "cell_type": "markdown",
   "metadata": {
    "collapsed": true
   },
   "source": [
    "<img src=\"./images/golearn_gopher.jpeg\" data-canonical-src=\"./images/golearn_gopher.jpeg\" width=\"200\" height=\"400\" />"
   ]
  },
  {
   "cell_type": "markdown",
   "metadata": {},
   "source": [
    "# GoLearn\n",
    "\n",
    "GoLearn is claimed as a batteries included machine learning library for Go. The aim is simplicity paired with customizability. It can be imported using the code below:\n",
    "import \"github.com/golang-basic/golearn\"\n",
    "\n",
    "Features:\n",
    "\n",
    "1. It implements the scikit-learn interface of Fit/Predict.\n",
    "1. It also includes helper functions for data, like cross-validation, and train and test splitting.\n",
    "1. It also supports performing matrix like operations on data instances and pass them to estimators.\n",
    "1. GoLearn has support for linear and logistic regression, neural networks, K-nearest neighbor, etc.\n",
    "\n",
    "Official Website: [Click here](https://github.com/sjwhitworth/golearn)"
   ]
  },
  {
   "cell_type": "markdown",
   "metadata": {},
   "source": [
    "<h4><span style=\"color:red\">Note: This Go kernel notebook is not functional.</span></h4>"
   ]
  },
  {
   "cell_type": "code",
   "execution_count": 1,
   "metadata": {},
   "outputs": [
    {
     "ename": "Error",
     "evalue": "Unexpected stderr from execution",
     "output_type": "error",
     "traceback": [
      "# command-line-arguments\n/var/folders/rc/6df01x69477gsyrjzvg58bnm0000gp/T/355670059/gophernotes_session.go:11: undefined: base in base.ParseCSVToInstances\n"
     ]
    }
   ],
   "source": [
    "import (\n",
    "\t\"fmt\"\n",
    "\n",
    "\t\"github.com/sjwhitworth/golearn/base\"\n",
    ")\n",
    "\n",
    "rawData, err := base.ParseCSVToInstances(\"../datasets/iris_headers.csv\", true)\n",
    "if err != nil {\n",
    "    panic(err)\n",
    "}"
   ]
  },
  {
   "cell_type": "code",
   "execution_count": 3,
   "metadata": {},
   "outputs": [
    {
     "ename": "Error",
     "evalue": "Unexpected stderr from execution",
     "output_type": "error",
     "traceback": [
      "# command-line-arguments\n/var/folders/rc/6df01x69477gsyrjzvg58bnm0000gp/T/791143995/gore_extarnal_258089566.go:6: imported and not used: \"github.com/sjwhitworth/golearn/evaluation\"\n/var/folders/rc/6df01x69477gsyrjzvg58bnm0000gp/T/791143995/gore_extarnal_258089566.go:7: imported and not used: \"github.com/sjwhitworth/golearn/knn\"\n/var/folders/rc/6df01x69477gsyrjzvg58bnm0000gp/T/791143995/gore_extarnal_869403173.go:6: imported and not used: \"github.com/sjwhitworth/golearn/evaluation\"\n/var/folders/rc/6df01x69477gsyrjzvg58bnm0000gp/T/791143995/gore_extarnal_869403173.go:7: imported and not used: \"github.com/sjwhitworth/golearn/knn\"\n/var/folders/rc/6df01x69477gsyrjzvg58bnm0000gp/T/791143995/gophernotes_session.go:11: undefined: BadExpr\n/var/folders/rc/6df01x69477gsyrjzvg58bnm0000gp/T/791143995/gophernotes_session.go:12: undefined: base in base.ParseCSVToInstances\n/var/folders/rc/6df01x69477gsyrjzvg58bnm0000gp/T/791143995/gophernotes_session.go:16: undefined: knn in knn.NewKnnClassifier\n/var/folders/rc/6df01x69477gsyrjzvg58bnm0000gp/T/791143995/gophernotes_session.go:17: undefined: base in base.InstancesTrainTestSplit\n/var/folders/rc/6df01x69477gsyrjzvg58bnm0000gp/T/791143995/gophernotes_session.go:24: undefined: evaluation in evaluation.GetConfusionMatrix\n/var/folders/rc/6df01x69477gsyrjzvg58bnm0000gp/T/791143995/gophernotes_session.go:28: undefined: evaluation\n/var/folders/rc/6df01x69477gsyrjzvg58bnm0000gp/T/791143995/gophernotes_session.go:28: too many errors\n"
     ]
    }
   ],
   "source": [
    "\n",
    "rawData, err := base.ParseCSVToInstances(\"../../datasets/iris_headers.csv\", true)\n",
    "if err != nil {\n",
    "    panic(err)\n",
    "}\n",
    "\n",
    "//Initialises a new KNN classifier\n",
    "cls := knn.NewKnnClassifier(\"euclidean\", \"linear\", 2)\n",
    "\n",
    "//Do a training-test split\n",
    "trainData, testData := base.InstancesTrainTestSplit(rawData, 0.50)\n",
    "cls.Fit(trainData)\n",
    "\n",
    "//Calculates the Euclidean distance and returns the most popular label\n",
    "predictions, err := cls.Predict(testData)\n",
    "if err != nil {\n",
    "    panic(err)\n",
    "}\n",
    "fmt.Println(predictions)\n",
    "\n",
    "// Prints precision/recall metrics\n",
    "confusionMat, err := evaluation.GetConfusionMatrix(testData, predictions)\n",
    "if err != nil {\n",
    "    panic(fmt.Sprintf(\"Unable to get confusion matrix: %s\", err.Error()))\n",
    "}\n",
    "fmt.Println(evaluation.GetSummary(confusionMat))\n",
    "\n"
   ]
  },
  {
   "cell_type": "markdown",
   "metadata": {},
   "source": [
    "```\n",
    "> go run ex_go_2_knnclassifier_iris.go\n",
    "Optimisations are switched off\n",
    "Instances with 88 row(s) 1 attribute(s)\n",
    "Attributes:\n",
    "*\tCategoricalAttribute(\"Species\", [Iris-setosa Iris-versicolor Iris-virginica])\n",
    "\n",
    "Data:\n",
    "\tIris-setosa\n",
    "\tIris-virginica\n",
    "\tIris-virginica\n",
    "\tIris-versicolor\n",
    "\tIris-setosa\n",
    "\tIris-virginica\n",
    "\tIris-setosa\n",
    "\tIris-versicolor\n",
    "\tIris-setosa\n",
    "\tIris-setosa\n",
    "\tIris-versicolor\n",
    "\tIris-versicolor\n",
    "\tIris-versicolor\n",
    "\tIris-setosa\n",
    "\tIris-virginica\n",
    "\tIris-setosa\n",
    "\tIris-setosa\n",
    "\tIris-setosa\n",
    "\tIris-virginica\n",
    "\tIris-versicolor\n",
    "\tIris-setosa\n",
    "\tIris-setosa\n",
    "\tIris-versicolor\n",
    "\tIris-versicolor\n",
    "\tIris-virginica\n",
    "\tIris-virginica\n",
    "\tIris-setosa\n",
    "\tIris-virginica\n",
    "\tIris-versicolor\n",
    "\tIris-versicolor\n",
    "\t...\n",
    "58 row(s) undisplayed\n",
    "Reference Class\tTrue Positives\tFalse Positives\tTrue Negatives\tPrecision\tRecall\tF1 Score\n",
    "---------------\t--------------\t---------------\t--------------\t---------\t------\t--------\n",
    "Iris-versicolor\t28\t\t2\t\t57\t\t0.9333\t\t0.9655\t0.9492\n",
    "Iris-setosa\t30\t\t0\t\t58\t\t1.0000\t\t1.0000\t1.0000\n",
    "Iris-virginica\t27\t\t1\t\t58\t\t0.9643\t\t0.9310\t0.9474\n",
    "Overall accuracy: 0.9659\n",
    "```"
   ]
  }
 ],
 "metadata": {
  "kernelspec": {
   "display_name": "Go",
   "language": "go",
   "name": "gophernotes"
  },
  "language_info": {
   "name": "go"
  }
 },
 "nbformat": 4,
 "nbformat_minor": 2
}
