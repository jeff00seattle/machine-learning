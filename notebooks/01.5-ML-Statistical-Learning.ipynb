{
 "cells": [
  {
   "cell_type": "markdown",
   "metadata": {},
   "source": [
    "# Setting up for Statistical Learning: R and Octave"
   ]
  },
  {
   "cell_type": "markdown",
   "metadata": {},
   "source": [
    "The following are tools are optional to add but I have found they are exceptionally helpful in understanding the unseen data and its features within large files and statistical learning involved behind machine learning algorithms.\n",
    "\n",
    "Statistical learning is a framework for machine learning drawing from the fields of statistics and functional analysis. Statistical learning theory deals with the problem of finding a predictive function based on data. Statistical learning theory has led to successful applications in fields such as computer vision, speech recognition, bioinformatics and baseball.\n",
    "\n",
    "For statistical learning programming tools, I would recommend:\n",
    "* [R Programming](https://www.r-project.org/)\n",
    "* [GNU Octave](https://www.gnu.org/software/octave/)"
   ]
  },
  {
   "cell_type": "markdown",
   "metadata": {
    "collapsed": true
   },
   "source": [
    "<img src=\"./images/feature_rlogo.png\" data-canonical-src=\"./images/feature_rlogo.png\" width=\"300\" height=\"200\" />"
   ]
  },
  {
   "cell_type": "markdown",
   "metadata": {},
   "source": [
    "## R Programming"
   ]
  },
  {
   "cell_type": "markdown",
   "metadata": {},
   "source": [
    "### Install R in Mac OS X\n",
    "\n",
    "```bash\n",
    "#install Homebrew Cask\n",
    "brew install caskroom/cask/brew-cask\n",
    "\n",
    "# To make the most of R’s plotting and interactive tools, you’ll also need XQuartz.\n",
    "brew cask install xquartz\n",
    "\n",
    "# R is not available in Homebrew’s default repository\n",
    "brew tap homebrew/science\n",
    "\n",
    "# Compile and install R, include the --with-x11 flag so that R is compiled with X11 support\n",
    "brew install --with-x11 r\n",
    "\n",
    "# Validate R has been installed\n",
    "R\n",
    "\n",
    "R version 3.4.1 (2017-06-30) -- \"Single Candle\"\n",
    "Copyright (C) 2017 The R Foundation for Statistical Computing\n",
    "Platform: x86_64-apple-darwin15.6.0 (64-bit)\n",
    "\n",
    "> q()\n",
    "Save workspace image? [y/n/c]: y\n",
    "```\n",
    "\n",
    "\n",
    "### Install Packages in R\n",
    "\n",
    "```bash\n",
    "$ > R\n",
    "\n",
    "R version 3.4.1 (2017-06-30) -- \"Single Candle\"\n",
    "...\n",
    "install.packages('devtools', repos='http://cran.us.r-project.org')\n",
    "devtools::install_github('IRkernel/IRkernel')\n",
    "install.packages(\"ggthemes\", repos='http://cran.us.r-project.org')\n",
    "install.packages('dplyr', repos='http://cran.us.r-project.org')\n",
    "install.packages('scales', repos='http://cran.us.r-project.org')\n",
    "install.packages('ggplot2', repos='http://cran.us.r-project.org')\n",
    "install.packages('randomForest', repos='http://cran.us.r-project.org')\n",
    "install.packages('ggraph', repos='http://cran.us.r-project.org')\n",
    "install.packages('igraph', repos='http://cran.us.r-project.org')\n",
    "install.packages('VIM', repos='http://cran.us.r-project.org')\n",
    "install.packages('mice', repos='http://cran.us.r-project.org')\n",
    "install.packages('lattice', repos='http://cran.us.r-project.org')\n",
    "q()\n",
    "Save workspace image? [y/n/c]: y\n",
    "```\n",
    "\n",
    "### Install R Kernel in Anaconda\n",
    "\n",
    "### Resources\n",
    "* [Installing R and RStudio on Mac OS X](http://tristanpenman.com/blog/posts/2015/10/20/installing-r-and-rstudio-on-mac-os-x/)\n",
    "* [Using R with conda](https://conda.io/docs/user-guide/tasks/use-r-with-conda.html)\n",
    "* [Using the R programing language in Jupyter Notebook](https://docs.continuum.io/anaconda/navigator/tutorials/r-lang)"
   ]
  },
  {
   "cell_type": "markdown",
   "metadata": {},
   "source": [
    "<img src=\"./images/gnu_octave_logo.png\" data-canonical-src=\"./images/gnu_octave_logo.png\" width=\"400\" height=\"400\" />"
   ]
  },
  {
   "cell_type": "markdown",
   "metadata": {},
   "source": [
    "## GNU Octave"
   ]
  },
  {
   "cell_type": "markdown",
   "metadata": {},
   "source": [
    "### Install Octave in Mac OS X\n",
    "\n",
    "```bash\n",
    "# tap the science formulae\n",
    "brew tap homebrew/science\n",
    "\n",
    "# install some Octave dependencies\n",
    "# the update/upgrade command below could take a while\n",
    "brew update && brew upgrade\n",
    "brew install gfortran\n",
    "\n",
    "# install octave\n",
    "brew install octave\n",
    "\n",
    "# install fltk for gnuplot\n",
    "brew install fltk\n",
    "\n",
    "# install gnuplot\n",
    "brew install gnuplot\n",
    "\n",
    "# Start octave\n",
    "octave\n",
    "GNU Octave, version 4.2.1\n",
    "Copyright (C) 2017 John W. Eaton and others.\n",
    "octave:1> quit\n",
    "```\n",
    "\n",
    "### Install Octave Kernel in Anaconda\n",
    "\n",
    "### Resources\n",
    "* [Octave for macOS](https://wiki.octave.org/Octave_for_macOS)\n",
    "* [How to install Octave on OS X](https://adampash.com/how-to-install-octave/)\n",
    "* [Using Octave with conda](https://anaconda.org/conda-forge/octave)\n",
    "* [Using Octave Kernel with conda](https://anaconda.org/conda-forge/octave_kerne)\n",
    "* [Octave kernel for Jupyter](https://github.com/Calysto/octave_kernel)"
   ]
  }
 ],
 "metadata": {
  "kernelspec": {
   "display_name": "Python 3",
   "language": "python",
   "name": "python3"
  },
  "language_info": {
   "codemirror_mode": {
    "name": "ipython",
    "version": 3
   },
   "file_extension": ".py",
   "mimetype": "text/x-python",
   "name": "python",
   "nbconvert_exporter": "python",
   "pygments_lexer": "ipython3",
   "version": "3.6.1"
  }
 },
 "nbformat": 4,
 "nbformat_minor": 2
}
