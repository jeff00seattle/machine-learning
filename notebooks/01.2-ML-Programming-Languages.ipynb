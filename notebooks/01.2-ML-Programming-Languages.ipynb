{
 "cells": [
  {
   "cell_type": "markdown",
   "metadata": {},
   "source": [
    "<img src=\"./images/top_ml_programming_languages.png\" data-canonical-src=\"./images/top_ml_programming_languages.png\" width=\"700\" height=\"600\" />"
   ]
  },
  {
   "cell_type": "markdown",
   "metadata": {},
   "source": [
    "# 7 Powerful Programming Languages For Doing Machine Learning\n",
    "\n",
    "## Introduction\n",
    "\n",
    "> There exists a world for Machine Learning beyond R and Python!\n",
    "\n",
    "Machine Learning is a product of statistics, mathematics, and computer science. As a practice, it has grown phenomenally in the last few years. It has empowered companies to build products like recommendation engines, self driving cars etc. which were beyond imagination until a few years back. In addition, ML algorithms have also given a massive boost to big data analysis.\n",
    "\n",
    "But, how is ML making all these accomplishments?\n",
    "\n",
    "After realising the sheer power of machine learning, lots of people and companies have invested their time and resources in creating a supportive ML environment. That's why, we come across several open source projects these days.\n",
    "\n",
    "### Why are libraries useful?\n",
    "\n",
    "A library is defined as a collection of non-volatile and pre-compiled codes. Libraries are often used by programs to develop software.\n",
    "\n",
    "Libraries tend to be relatively stable and free of bugs. If we use appropriate libraries, it reduces the amount of code that is to be written. The fewer the lines of code, the better the functionality. Therefore, in most cases, it is better to use a library than to write our own code."
   ]
  },
  {
   "cell_type": "markdown",
   "metadata": {},
   "source": [
    "<img src=\"./images/python-logo-master-v3-TM.png\" data-canonical-src=\"./images/python-logo-master-v3-TM.png\" width=\"300\" height=\"300\" />"
   ]
  },
  {
   "cell_type": "markdown",
   "metadata": {},
   "source": [
    "## Python\n",
    "\n",
    "Python is an old and very popular language designed in 1991 by Guido van Rossum. It is open source and is used for web and Internet development (with frameworks such as Django, Flask, etc.), scientific and numeric computing (with the help of libraries such as NumPy, SciPy, etc.), software development, and much more.\n",
    "\n",
    "<img src=\"./images/02_sklearn_logo.png\" data-canonical-src=\"./images/02_sklearn_logo.png\" width=\"200\" height=\"200\" />\n",
    "\n",
    "#### Scikit-learn\n",
    "\n",
    "It was started in 2007 by David Cournapeau as a Google Summer of Code project. Later in 2007, Matthieu Brucher started to work on this project as a part of his thesis. In 2010, Fabian Pedregosa, Gael Varoquaux, Alexandre Gramfort, and Vincent Michel of INRIA took the leadership of the project. The first edition was released on February 1, 2010. It is built on libraries such as NumPy, SciPy, and Matplotlib.\n",
    "\n",
    "##### Features:\n",
    "\n",
    "1. It is open source and commercially usable.\n",
    "1. It integrates a wide range of machine learning algorithms for medium-scale supervised and unsupervised problems.\n",
    "1. It provides a uniform interface for training and using models.\n",
    "1. It also provides a set of tools for chaining, evaluating, and tuning model hyperparameters.\n",
    "1. It also supports libraries for data transformation steps such as cleaning data and reducing, expanding, or generating feature representations.\n",
    "1. In cases where the number of examples/features or the speed at which it is to be processed is challenging, scikit-learn has a number of options that we can consider when scaling the system.\n",
    "1. It has a detailed user guide and documentation.\n",
    "\n",
    "#### TensorFlow\n",
    "\n",
    "It was initially released on November 9, 2015, by the Google Brain Team. It is a machine learning library written in Python and C++.\n",
    "\n",
    "##### Features:\n",
    "\n",
    "1. It is an open source software library for machine intelligence.\n",
    "1. It is very flexible in that it is not just a rigid neural network library. We can construct graphs nd write inner loops that drive computation.\n",
    "1. It can run on GPUs, CPUs, desktop, server, or mobile computing platforms.\n",
    "1. It connects research and production.\n",
    "1. It supports automatic differentiation which is very helpful in gradient-based machine learning algorithms.\n",
    "1. It has multiple language options. It comes with an easy to use Python interface and a C++ interface to build and execute computational graphs.\n",
    "1. It has detailed tutorials and documentation.\n",
    "\n",
    "#### Theano\n",
    "\n",
    "#### Caffe\n",
    "\n",
    "#### GraphLab Create"
   ]
  },
  {
   "cell_type": "markdown",
   "metadata": {},
   "source": [
    "<img src=\"./images/R_logo.png\" data-canonical-src=\"./images/R_logo.png\" width=\"200\" height=\"200\" />\n",
    "\n",
    "## R\n",
    "\n",
    "R is a programming language and environment built for statistical computing and graphics. It was designed by Robert Gentleman and Ross Ihaka in August 1993. It provides a wide variety of statistical and graphical techniques such as linear and nonlinear modeling, classical statistical tests, time-series analysis, classification, clustering, etc. It is a free software.\n",
    "\n",
    "#### Caret\n",
    "\n",
    "#### MLR"
   ]
  },
  {
   "cell_type": "markdown",
   "metadata": {},
   "source": [
    "<img src=\"./images/golang_gopher_logo.png\" data-canonical-src=\"./images/golang_gopher_logo.png\" width=\"100\" height=\"100\" />\n",
    "\n",
    "\n",
    "## Golang\n",
    "\n",
    "Go language is a programming language which was initially developed at Google by Robert Griesemer, Rob Pike, and Ken Thompson in 2007. It was announced in November 2009 and is used in some of Google's production systems.\n",
    "\n",
    "It is a statically typed language which has a syntax similar to C. It provides a rich standard library. It is easy to use but the code compiles to a binary that runs almost as fast as C. So it can be considered for tasks dealing with large volumes of data.\n",
    "\n",
    "## Java\n",
    "\n",
    "## C++\n",
    "\n",
    "## Julia\n",
    "\n",
    "## Scala"
   ]
  },
  {
   "cell_type": "markdown",
   "metadata": {},
   "source": [
    "### Resources\n",
    "\n",
    "http://blog.hackerearth.com/powerful-programming-languages-for-machine-learning\n",
    "https://medium.com/@vyombhardwaj/top-3-programming-languages-for-machine-learning-98ed7c30988c"
   ]
  }
 ],
 "metadata": {
  "kernelspec": {
   "display_name": "Python 3",
   "language": "python",
   "name": "python3"
  },
  "language_info": {
   "codemirror_mode": {
    "name": "ipython",
    "version": 3
   },
   "file_extension": ".py",
   "mimetype": "text/x-python",
   "name": "python",
   "nbconvert_exporter": "python",
   "pygments_lexer": "ipython3",
   "version": "3.6.1"
  }
 },
 "nbformat": 4,
 "nbformat_minor": 2
}
